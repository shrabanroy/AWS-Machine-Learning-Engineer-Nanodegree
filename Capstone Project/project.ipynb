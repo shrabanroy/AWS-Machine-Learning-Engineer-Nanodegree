{
  "nbformat": 4,
  "nbformat_minor": 0,
  "metadata": {
    "kernelspec": {
      "display_name": "Python 3",
      "language": "python",
      "name": "python3"
    },
    "language_info": {
      "codemirror_mode": {
        "name": "ipython",
        "version": 3
      },
      "file_extension": ".py",
      "mimetype": "text/x-python",
      "name": "python",
      "nbconvert_exporter": "python",
      "pygments_lexer": "ipython3",
      "version": "3.7.6"
    },
    "papermill": {
      "duration": 111.192357,
      "end_time": "2020-09-17T20:42:36.401983",
      "environment_variables": {},
      "exception": null,
      "input_path": "__notebook__.ipynb",
      "output_path": "__notebook__.ipynb",
      "parameters": {},
      "start_time": "2020-09-17T20:40:45.209626",
      "version": "2.1.0"
    },
    "colab": {
      "name": "BlurNet.ipynb",
      "provenance": [],
      "collapsed_sections": [
        "mZZzZpkY4tKq",
        "UQcOxfb6-cSV"
      ]
    },
    "accelerator": "GPU"
  },
  "cells": [
    {
      "cell_type": "markdown",
      "metadata": {
        "id": "EO-tVayK2XVb"
      },
      "source": [
        "#This task is given durring initial process of iternship given by internshala\n",
        "There is three task\n",
        "1. Take any multi class dataset make atleast one class of them extremely rare.\n",
        "2. Blur a huge ammount of data about 40%\n",
        "3. Perfrom edge detection as preprocessing steps"
      ]
    },
    {
      "cell_type": "markdown",
      "metadata": {
        "id": "Mc8lzhoe2ptD"
      },
      "source": [
        "## Import libraries"
      ]
    },
    {
      "cell_type": "code",
      "metadata": {
        "_cell_guid": "b1076dfc-b9ad-4769-8c92-a6c4dae69d19",
        "_uuid": "8f2839f25d086af736a60e9eeb907d3b93b6e0e5",
        "execution": {
          "iopub.execute_input": "2020-09-17T20:40:50.029726Z",
          "iopub.status.busy": "2020-09-17T20:40:50.028926Z",
          "iopub.status.idle": "2020-09-17T20:40:58.163815Z",
          "shell.execute_reply": "2020-09-17T20:40:58.164707Z"
        },
        "papermill": {
          "duration": 8.177736,
          "end_time": "2020-09-17T20:40:58.164916",
          "exception": false,
          "start_time": "2020-09-17T20:40:49.987180",
          "status": "completed"
        },
        "tags": [],
        "id": "N78LQN_eriKD"
      },
      "source": [
        "import numpy as np # linear algebra\n",
        "import pandas as pd # data processing, CSV file I/O (e.g. pd.read_csv)\n",
        "from scipy.signal import convolve\n",
        "# Input data files are available in the \"../input/\" directory.\n",
        "# For example, running this (by clicking run or pressing Shift+Enter) will list the files in the input directory\n",
        "import matplotlib.pyplot as plt\n",
        "import cv2\n",
        "from subprocess import check_output\n",
        "from keras.utils import to_categorical\n",
        "import tensorflow as tf\n",
        "from sklearn.model_selection import train_test_split\n",
        "import seaborn as sns\n",
        "import keras\n",
        "from keras.models import Sequential\n",
        "from keras.layers import Dense, Dropout, Flatten\n",
        "from keras.layers import Conv2D, MaxPooling2D\n",
        "from keras.layers.normalization import BatchNormalization\n",
        "from keras.callbacks import EarlyStopping\n",
        "from keras.callbacks import LearningRateScheduler\n",
        "# load and evaluate a saved model\n",
        "from numpy import loadtxt\n",
        "from keras.models import load_model\n",
        "from keras import regularizers\n",
        "\n",
        "# Any results you write to the current directory are saved as output."
      ],
      "execution_count": 1,
      "outputs": []
    },
    {
      "cell_type": "markdown",
      "metadata": {
        "id": "Q_NBlGdh256N"
      },
      "source": [
        "#Mount the notebook with my google drive"
      ]
    },
    {
      "cell_type": "code",
      "metadata": {
        "id": "rlcJqRDhrs98",
        "outputId": "5ed272d9-a7c1-47b4-9ba6-05e1687df1eb",
        "colab": {
          "base_uri": "https://localhost:8080/",
          "height": 34
        }
      },
      "source": [
        "from google.colab import drive\n",
        "drive.mount('/content/drive')"
      ],
      "execution_count": 2,
      "outputs": [
        {
          "output_type": "stream",
          "text": [
            "Mounted at /content/drive\n"
          ],
          "name": "stdout"
        }
      ]
    },
    {
      "cell_type": "markdown",
      "metadata": {
        "id": "G8O2iFqh3Itc"
      },
      "source": [
        "## Learning rate scheduler function"
      ]
    },
    {
      "cell_type": "code",
      "metadata": {
        "execution": {
          "iopub.execute_input": "2020-09-17T20:40:58.237231Z",
          "iopub.status.busy": "2020-09-17T20:40:58.236190Z",
          "iopub.status.idle": "2020-09-17T20:40:58.239591Z",
          "shell.execute_reply": "2020-09-17T20:40:58.238955Z"
        },
        "papermill": {
          "duration": 0.04184,
          "end_time": "2020-09-17T20:40:58.239703",
          "exception": false,
          "start_time": "2020-09-17T20:40:58.197863",
          "status": "completed"
        },
        "tags": [],
        "id": "R56lg0EqriKP"
      },
      "source": [
        "def scheduler(epoch, lr):\n",
        "...   if epoch < 10:\n",
        "...     return lr\n",
        "...   else:\n",
        "...     return lr * tf.math.exp(-0.1)"
      ],
      "execution_count": 3,
      "outputs": []
    },
    {
      "cell_type": "markdown",
      "metadata": {
        "id": "rGFHsQlx3K2s"
      },
      "source": [
        "##Non maximum suppression algorithim"
      ]
    },
    {
      "cell_type": "code",
      "metadata": {
        "execution": {
          "iopub.execute_input": "2020-09-17T20:40:58.327271Z",
          "iopub.status.busy": "2020-09-17T20:40:58.316895Z",
          "iopub.status.idle": "2020-09-17T20:40:58.340728Z",
          "shell.execute_reply": "2020-09-17T20:40:58.340165Z"
        },
        "papermill": {
          "duration": 0.070159,
          "end_time": "2020-09-17T20:40:58.340845",
          "exception": false,
          "start_time": "2020-09-17T20:40:58.270686",
          "status": "completed"
        },
        "tags": [],
        "id": "zGSjRKuQriKV"
      },
      "source": [
        "def non_max_suppression(img, D):\n",
        "    M, N = img.shape\n",
        "    Z = np.zeros((M,N), dtype=np.int32)\n",
        "    angle = D * 180. / np.pi\n",
        "    angle[angle < 0] += 180\n",
        "    for i in range(1,M-1):\n",
        "        for j in range(1,N-1):\n",
        "            try:\n",
        "                q = 255\n",
        "                r = 255\n",
        "             #angle 0\n",
        "                if (0 <= angle[i,j] < 22.5) or (157.5 <= angle[i,j] <= 180):\n",
        "                    q = img[i, j+1]\n",
        "                    r = img[i, j-1]\n",
        "             #angle 45\n",
        "                elif (22.5 <= angle[i,j] < 67.5):\n",
        "                    q = img[i+1, j-1]\n",
        "                    r = img[i-1, j+1]\n",
        "             #angle 90\n",
        "                elif (67.5 <= angle[i,j] < 112.5):\n",
        "                    q = img[i+1, j]\n",
        "                    r = img[i-1, j]\n",
        "             #angle 135\n",
        "                elif (112.5 <= angle[i,j] < 157.5):\n",
        "                    q = img[i-1, j-1]\n",
        "                    r = img[i+1, j+1]\n",
        "                if (img[i,j] >= q) and (img[i,j] >= r):\n",
        "                    Z[i,j] = img[i,j]\n",
        "                else:\n",
        "                    Z[i,j] = 0\n",
        "            except IndexError as e:\n",
        "                 pass\n",
        "    return Z"
      ],
      "execution_count": 4,
      "outputs": []
    },
    {
      "cell_type": "markdown",
      "metadata": {
        "id": "6MREKjhD3W5J"
      },
      "source": [
        "##Thresholding algorithim it gives two values"
      ]
    },
    {
      "cell_type": "code",
      "metadata": {
        "id": "XpEhACIc3TAr"
      },
      "source": [
        "def threshold(img, lowThresholdRatio=0.05, highThresholdRatio=0.09):\n",
        "    highThreshold = img.max() * highThresholdRatio;\n",
        "    lowThreshold = highThreshold * lowThresholdRatio;\n",
        "    M, N = img.shape\n",
        "    res = np.zeros((M,N), dtype=np.int32)\n",
        "    weak = np.int32(25)\n",
        "    strong = np.int32(255)\n",
        "    strong_i, strong_j = np.where(img >= highThreshold)\n",
        "    zeros_i, zeros_j = np.where(img < lowThreshold)\n",
        "    weak_i, weak_j = np.where((img <= highThreshold) & (img >= lowThreshold))\n",
        "    res[strong_i, strong_j] = strong\n",
        "    res[weak_i, weak_j] = weak\n",
        "    \n",
        "    return (res, weak, strong)"
      ],
      "execution_count": 5,
      "outputs": []
    },
    {
      "cell_type": "markdown",
      "metadata": {
        "id": "5zgksx-w3e4Y"
      },
      "source": [
        "## Hystersis thresholding"
      ]
    },
    {
      "cell_type": "code",
      "metadata": {
        "id": "ABO0D1Ir3TJV"
      },
      "source": [
        "def hysteresis(img, weak, strong=255):\n",
        "    M, N = img.shape\n",
        "    for i in range(1, M-1):\n",
        "        for j in range(1, N-1):\n",
        "            if (img[i,j] == weak):\n",
        "                try:\n",
        "                    if ((img[i+1, j-1] == strong) or (img[i+1, j] == strong) or (img[i+1, j+1] == strong) or (img[i, j-1] == strong) or (img[i, j+1] == strong)\n",
        "                            or (img[i-1, j-1] == strong) or (img[i-1, j] == strong) or (img[i-1, j+1] == strong)):\n",
        "                        img[i, j] = strong\n",
        "                    else:\n",
        "                        img[i, j] = 0\n",
        "                except IndexError as e:\n",
        "                    pass\n",
        "    return img"
      ],
      "execution_count": 6,
      "outputs": []
    },
    {
      "cell_type": "markdown",
      "metadata": {
        "id": "D-Xw4auk3jC_"
      },
      "source": [
        "###### This function is for detect whether incoming image is blurry or not. I used laplacian filter to detect whether the image is blurry or not with a threshold value 100. Generally blurry images laplacian filer values are too much low below 10 and not blurry values are way bigger like 1000"
      ]
    },
    {
      "cell_type": "code",
      "metadata": {
        "execution": {
          "iopub.execute_input": "2020-09-17T20:40:58.420235Z",
          "iopub.status.busy": "2020-09-17T20:40:58.419228Z",
          "iopub.status.idle": "2020-09-17T20:40:58.422558Z",
          "shell.execute_reply": "2020-09-17T20:40:58.421968Z"
        },
        "papermill": {
          "duration": 0.049847,
          "end_time": "2020-09-17T20:40:58.422689",
          "exception": false,
          "start_time": "2020-09-17T20:40:58.372842",
          "status": "completed"
        },
        "tags": [],
        "id": "jtmr6T0friK3"
      },
      "source": [
        "thre = 100\n",
        "\n",
        "def blurry(image):\n",
        "    #img = cv2.cvtColor(img, cv2.COLOR_BGR2GRAY)\n",
        "    image = cv2.resize(image,(28,28))\n",
        "    #print(image.shape)\n",
        "    return cv2.Laplacian(image, cv2.CV_32F).var()\n",
        "\n",
        "def preprocessing(img):\n",
        "    img = img.astype(np.float32)\n",
        "    t = blurry(img)\n",
        "    #print(t)\n",
        "    if t > thre:\n",
        "        img = img.astype(np.uint8)\n",
        "        edges = cv2.Canny(img,100,200)\n",
        "    else:\n",
        "        Kx = np.array([[-1, 0, 1], [-2, 0, 2], [-1, 0, 1]])\n",
        "        Ky = np.array([[1, 2, 1], [0, 0, 0], [-1, -2, -1]])\n",
        "        #Calculate of x,y gradient\n",
        "        Ix = convolve(img, Kx)\n",
        "        Iy = convolve(img, Ky)\n",
        "    #Calculate normalized gradient magnitude and theta\n",
        "        g = np.hypot(Ix, Iy)\n",
        "    #G = G / G.max() * 255\n",
        "        theta = np.arctan2(Iy, Ix)\n",
        "    #return (G, theta)\n",
        "        nms = non_max_suppression(g,theta)\n",
        "        #print(nms)\n",
        "        edge,weak,strong = threshold(nms)\n",
        "        #print(weak)\n",
        "        edges = hysteresis(edge,weak=weak)\n",
        "        #edges = edges > 100\n",
        "\n",
        "    edges = edges.astype(np.float64)\n",
        "    edges = cv2.resize(edges,(28,28))\n",
        "    #edges = edges > 50\n",
        "    return edges"
      ],
      "execution_count": 7,
      "outputs": []
    },
    {
      "cell_type": "markdown",
      "metadata": {
        "id": "mZZzZpkY4tKq"
      },
      "source": [
        "### For this task I take Fashion Mnist dataset(28*28*1).\n",
        "Load fashion Mnist,split it into train,validation,test. Make the labels to categorical"
      ]
    },
    {
      "cell_type": "code",
      "metadata": {
        "_cell_guid": "79c7e3d0-c299-4dcb-8224-4455121ee9b0",
        "_uuid": "d629ff2d2480ee46fbb7e2d37f6b5fab8052498a",
        "execution": {
          "iopub.execute_input": "2020-09-17T20:40:58.501325Z",
          "iopub.status.busy": "2020-09-17T20:40:58.500618Z",
          "iopub.status.idle": "2020-09-17T20:41:10.450393Z",
          "shell.execute_reply": "2020-09-17T20:41:10.449607Z"
        },
        "papermill": {
          "duration": 11.996887,
          "end_time": "2020-09-17T20:41:10.450575",
          "exception": false,
          "start_time": "2020-09-17T20:40:58.453688",
          "status": "completed"
        },
        "tags": [],
        "id": "F9HvHqVzriK-"
      },
      "source": [
        "data_train = pd.read_csv(r'/content/drive/My Drive/fashion mnist/fashion-mnist_train.csv')\n",
        "data_test = pd.read_csv(r'/content/drive/My Drive/fashion mnist/fashion-mnist_train.csv')\n",
        "\n",
        "img_rows, img_cols = 28, 28\n",
        "input_shape = (img_rows, img_cols, 1)\n",
        "\n",
        "X = np.array(data_train.iloc[:, 1:])\n",
        "y = to_categorical(np.array(data_train.iloc[:, 0]))\n",
        "\n",
        "#Here we split validation data to optimiza classifier during training\n",
        "X_train, X_val, y_train, y_val = train_test_split(X, y, test_size=0.2, random_state=13)\n",
        "\n",
        "#Test data\n",
        "X_test = np.array(data_test.iloc[:, 1:])\n",
        "y_test = to_categorical(np.array(data_test.iloc[:, 0]))"
      ],
      "execution_count": 8,
      "outputs": []
    },
    {
      "cell_type": "markdown",
      "metadata": {
        "id": "TV7guZ6j5Hlm"
      },
      "source": [
        "#Plot of a random image which is not blurry"
      ]
    },
    {
      "cell_type": "code",
      "metadata": {
        "execution": {
          "iopub.execute_input": "2020-09-17T20:41:10.523120Z",
          "iopub.status.busy": "2020-09-17T20:41:10.522381Z",
          "iopub.status.idle": "2020-09-17T20:41:10.738646Z",
          "shell.execute_reply": "2020-09-17T20:41:10.739274Z"
        },
        "papermill": {
          "duration": 0.251242,
          "end_time": "2020-09-17T20:41:10.739460",
          "exception": false,
          "start_time": "2020-09-17T20:41:10.488218",
          "status": "completed"
        },
        "tags": [],
        "id": "W7gLMy1FriLE",
        "outputId": "a671f549-31cf-47c4-b4e8-810a6929e154",
        "colab": {
          "base_uri": "https://localhost:8080/",
          "height": 281
        }
      },
      "source": [
        "plt.imshow(X_val[1].reshape(28,28))\n",
        "plt.title(\"Not blurry image\")\n",
        "plt.axis(\"off\")"
      ],
      "execution_count": 9,
      "outputs": [
        {
          "output_type": "execute_result",
          "data": {
            "text/plain": [
              "(-0.5, 27.5, 27.5, -0.5)"
            ]
          },
          "metadata": {
            "tags": []
          },
          "execution_count": 9
        },
        {
          "output_type": "display_data",
          "data": {
            "image/png": "[encoded data removed]",
            "text/plain": [
              "<Figure size 432x288 with 1 Axes>"
            ]
          },
          "metadata": {
            "tags": [],
            "needs_background": "light"
          }
        }
      ]
    },
    {
      "cell_type": "code",
      "metadata": {
        "execution": {
          "iopub.execute_input": "2020-09-17T20:41:10.814746Z",
          "iopub.status.busy": "2020-09-17T20:41:10.813991Z",
          "iopub.status.idle": "2020-09-17T20:41:11.011444Z",
          "shell.execute_reply": "2020-09-17T20:41:11.010814Z"
        },
        "papermill": {
          "duration": 0.238236,
          "end_time": "2020-09-17T20:41:11.011577",
          "exception": false,
          "start_time": "2020-09-17T20:41:10.773341",
          "status": "completed"
        },
        "tags": [],
        "id": "_ovyb5ChriLL",
        "outputId": "094825af-382f-4894-c18b-8a9559232dcb",
        "colab": {
          "base_uri": "https://localhost:8080/",
          "height": 264
        }
      },
      "source": [
        "edge = preprocessing(X_val[1].reshape(28,28))\n",
        "plt.imshow(edge)\n",
        "plt.title(\"edge detected version of top image\")\n",
        "plt.axis(\"off\");"
      ],
      "execution_count": 10,
      "outputs": [
        {
          "output_type": "display_data",
          "data": {
            "image/png": "[encoded data removed]",
            "text/plain": [
              "<Figure size 432x288 with 1 Axes>"
            ]
          },
          "metadata": {
            "tags": [],
            "needs_background": "light"
          }
        }
      ]
    },
    {
      "cell_type": "code",
      "metadata": {
        "execution": {
          "iopub.execute_input": "2020-09-17T20:41:11.084936Z",
          "iopub.status.busy": "2020-09-17T20:41:11.084012Z",
          "iopub.status.idle": "2020-09-17T20:41:11.087798Z",
          "shell.execute_reply": "2020-09-17T20:41:11.088373Z"
        },
        "papermill": {
          "duration": 0.041776,
          "end_time": "2020-09-17T20:41:11.088516",
          "exception": false,
          "start_time": "2020-09-17T20:41:11.046740",
          "status": "completed"
        },
        "tags": [],
        "id": "3ltTIm7briLS",
        "outputId": "930de2aa-7bcb-4ae6-c489-039c8d4296f7",
        "colab": {
          "base_uri": "https://localhost:8080/",
          "height": 34
        }
      },
      "source": [
        "np.argmax(y_train[0], axis=0),np.argmax(y_train[1], axis=0)"
      ],
      "execution_count": 11,
      "outputs": [
        {
          "output_type": "execute_result",
          "data": {
            "text/plain": [
              "(7, 9)"
            ]
          },
          "metadata": {
            "tags": []
          },
          "execution_count": 11
        }
      ]
    },
    {
      "cell_type": "code",
      "metadata": {
        "execution": {
          "iopub.execute_input": "2020-09-17T20:41:11.177741Z",
          "iopub.status.busy": "2020-09-17T20:41:11.176763Z",
          "iopub.status.idle": "2020-09-17T20:41:11.183580Z",
          "shell.execute_reply": "2020-09-17T20:41:11.182958Z"
        },
        "papermill": {
          "duration": 0.056808,
          "end_time": "2020-09-17T20:41:11.183694",
          "exception": false,
          "start_time": "2020-09-17T20:41:11.126886",
          "status": "completed"
        },
        "tags": [],
        "id": "CmZG_Au9riLg",
        "outputId": "1693bf38-5ca3-41c8-89b1-2d615948efb3",
        "colab": {
          "base_uri": "https://localhost:8080/",
          "height": 34
        }
      },
      "source": [
        "np.argmax((y_train), axis=0)"
      ],
      "execution_count": 12,
      "outputs": [
        {
          "output_type": "execute_result",
          "data": {
            "text/plain": [
              "array([ 2,  3,  6, 11, 13,  4,  5,  0,  8,  1])"
            ]
          },
          "metadata": {
            "tags": []
          },
          "execution_count": 12
        }
      ]
    },
    {
      "cell_type": "markdown",
      "metadata": {
        "id": "6UL30fV26j-1"
      },
      "source": [
        ""
      ]
    },
    {
      "cell_type": "code",
      "metadata": {
        "execution": {
          "iopub.execute_input": "2020-09-17T20:41:11.254797Z",
          "iopub.status.busy": "2020-09-17T20:41:11.253881Z",
          "iopub.status.idle": "2020-09-17T20:41:11.257009Z",
          "shell.execute_reply": "2020-09-17T20:41:11.256506Z"
        },
        "papermill": {
          "duration": 0.041042,
          "end_time": "2020-09-17T20:41:11.257133",
          "exception": false,
          "start_time": "2020-09-17T20:41:11.216091",
          "status": "completed"
        },
        "tags": [],
        "id": "m6CPCYQtriLm"
      },
      "source": [
        "temp_img1 = X_train[0]\n",
        "temp_y1 = y_train[0]\n",
        "\n",
        "temp_img2 = X_train[1]\n",
        "temp_y2 = y_train[1]"
      ],
      "execution_count": 13,
      "outputs": []
    },
    {
      "cell_type": "code",
      "metadata": {
        "execution": {
          "iopub.execute_input": "2020-09-17T20:41:11.334581Z",
          "iopub.status.busy": "2020-09-17T20:41:11.333626Z",
          "iopub.status.idle": "2020-09-17T20:41:11.337810Z",
          "shell.execute_reply": "2020-09-17T20:41:11.337216Z"
        },
        "papermill": {
          "duration": 0.047296,
          "end_time": "2020-09-17T20:41:11.337906",
          "exception": false,
          "start_time": "2020-09-17T20:41:11.290610",
          "status": "completed"
        },
        "tags": [],
        "id": "AtVqAeqWriLs",
        "outputId": "9b8754eb-5e62-4515-c73b-a3230a730aa4",
        "colab": {
          "base_uri": "https://localhost:8080/",
          "height": 34
        }
      },
      "source": [
        "temp_img2.shape"
      ],
      "execution_count": 14,
      "outputs": [
        {
          "output_type": "execute_result",
          "data": {
            "text/plain": [
              "(784,)"
            ]
          },
          "metadata": {
            "tags": []
          },
          "execution_count": 14
        }
      ]
    },
    {
      "cell_type": "code",
      "metadata": {
        "execution": {
          "iopub.execute_input": "2020-09-17T20:41:11.416992Z",
          "iopub.status.busy": "2020-09-17T20:41:11.416114Z",
          "iopub.status.idle": "2020-09-17T20:41:11.600481Z",
          "shell.execute_reply": "2020-09-17T20:41:11.600939Z"
        },
        "papermill": {
          "duration": 0.228299,
          "end_time": "2020-09-17T20:41:11.601098",
          "exception": false,
          "start_time": "2020-09-17T20:41:11.372799",
          "status": "completed"
        },
        "tags": [],
        "id": "rcR0pswqriLx"
      },
      "source": [
        "prev_lab = []\n",
        "for i in range(y_train.shape[0]):\n",
        "    prev_lab.append(np.argmax(y_train[i], axis=0))    "
      ],
      "execution_count": 15,
      "outputs": []
    },
    {
      "cell_type": "markdown",
      "metadata": {
        "id": "8MfT43Yh6NEJ"
      },
      "source": [
        "#Seaborn count plot shows dataset presently is perfectly balanced"
      ]
    },
    {
      "cell_type": "code",
      "metadata": {
        "execution": {
          "iopub.execute_input": "2020-09-17T20:41:11.690019Z",
          "iopub.status.busy": "2020-09-17T20:41:11.689147Z",
          "iopub.status.idle": "2020-09-17T20:41:11.979798Z",
          "shell.execute_reply": "2020-09-17T20:41:11.980698Z"
        },
        "papermill": {
          "duration": 0.346598,
          "end_time": "2020-09-17T20:41:11.980955",
          "exception": false,
          "start_time": "2020-09-17T20:41:11.634357",
          "status": "completed"
        },
        "tags": [],
        "id": "vAbSmRAZriL3",
        "outputId": "39c99e7a-8146-446e-e4a4-bcf2c9a20031",
        "colab": {
          "base_uri": "https://localhost:8080/",
          "height": 319
        }
      },
      "source": [
        "sns.countplot(prev_lab);"
      ],
      "execution_count": 16,
      "outputs": [
        {
          "output_type": "stream",
          "text": [
            "/usr/local/lib/python3.6/dist-packages/seaborn/_decorators.py:43: FutureWarning: Pass the following variable as a keyword arg: x. From version 0.12, the only valid positional argument will be `data`, and passing other arguments without an explicit keyword will result in an error or misinterpretation.\n",
            "  FutureWarning\n"
          ],
          "name": "stderr"
        },
        {
          "output_type": "display_data",
          "data": {
            "image/png": "[encoded data removed]",
            "text/plain": [
              "<Figure size 432x288 with 1 Axes>"
            ]
          },
          "metadata": {
            "tags": [],
            "needs_background": "light"
          }
        }
      ]
    },
    {
      "cell_type": "markdown",
      "metadata": {
        "papermill": {
          "duration": 0.052406,
          "end_time": "2020-09-17T20:41:12.089487",
          "exception": false,
          "start_time": "2020-09-17T20:41:12.037081",
          "status": "completed"
        },
        "tags": [],
        "id": "7OKtL0xqriL8"
      },
      "source": [
        "0 class imbalanced\n",
        "1 class imbalanced\n",
        "\n",
        "0: T-shirt/top\n",
        "1: Trouser"
      ]
    },
    {
      "cell_type": "markdown",
      "metadata": {
        "id": "1FWWMtOy6Wyg"
      },
      "source": [
        "#Now make the dataset extremly unbalanced.\n",
        "Now change the \n",
        "*   Class 1(Trouser) to class 9\n",
        "*   Class 0(Tshirt/top) to class 7 \n",
        "\n",
        "Change the 3300 images of each class(0,1) to class 9,7\n"
      ]
    },
    {
      "cell_type": "code",
      "metadata": {
        "execution": {
          "iopub.execute_input": "2020-09-17T20:41:12.175475Z",
          "iopub.status.busy": "2020-09-17T20:41:12.174542Z",
          "iopub.status.idle": "2020-09-17T20:41:12.493292Z",
          "shell.execute_reply": "2020-09-17T20:41:12.493954Z"
        },
        "papermill": {
          "duration": 0.366713,
          "end_time": "2020-09-17T20:41:12.494156",
          "exception": false,
          "start_time": "2020-09-17T20:41:12.127443",
          "status": "completed"
        },
        "tags": [],
        "id": "i0EJBDXWriL9",
        "outputId": "1f31cee8-7c02-4cf5-a847-93058c1db11c",
        "colab": {
          "base_uri": "https://localhost:8080/",
          "height": 51
        }
      },
      "source": [
        "c = 0\n",
        "\n",
        "for i in range(X_train.shape[0]):\n",
        "    if np.argmax(y_train[i], axis=0) == 0:\n",
        "        X_train[i] = temp_img1\n",
        "        y_train[i] = temp_y1\n",
        "        c = c + 1\n",
        "        #print(str(c) + \" \" + str(i))\n",
        "        if (c == 3300):\n",
        "            print(\"done\")\n",
        "            break\n",
        "        else:\n",
        "            pass\n",
        "\n",
        "c = 0\n",
        "\n",
        "for i in range(X_train.shape[0]):\n",
        "    if np.argmax(y_train[i], axis=0) == 1:\n",
        "        X_train[i] = temp_img2\n",
        "        y_train[i] = temp_y2\n",
        "        c = c + 1\n",
        "        #print(str(c) + \" \" + str(i))\n",
        "        if (c == 3300):\n",
        "            print(\"done\")\n",
        "\n",
        "            break\n",
        "        else:\n",
        "            pass"
      ],
      "execution_count": 17,
      "outputs": [
        {
          "output_type": "stream",
          "text": [
            "done\n",
            "done\n"
          ],
          "name": "stdout"
        }
      ]
    },
    {
      "cell_type": "code",
      "metadata": {
        "execution": {
          "iopub.execute_input": "2020-09-17T20:41:12.587626Z",
          "iopub.status.busy": "2020-09-17T20:41:12.586540Z",
          "iopub.status.idle": "2020-09-17T20:41:12.797422Z",
          "shell.execute_reply": "2020-09-17T20:41:12.798050Z"
        },
        "papermill": {
          "duration": 0.259496,
          "end_time": "2020-09-17T20:41:12.798225",
          "exception": false,
          "start_time": "2020-09-17T20:41:12.538729",
          "status": "completed"
        },
        "tags": [],
        "id": "1T2NLXsLriMJ"
      },
      "source": [
        "pre_lab = []\n",
        "for i in range(y_train.shape[0]):\n",
        "    pre_lab.append(np.argmax(y_train[i], axis=0))  "
      ],
      "execution_count": 18,
      "outputs": []
    },
    {
      "cell_type": "markdown",
      "metadata": {
        "id": "fCf9JhBb7rfi"
      },
      "source": [
        "# Seaborn count plot shows two class is highly rare "
      ]
    },
    {
      "cell_type": "code",
      "metadata": {
        "execution": {
          "iopub.execute_input": "2020-09-17T20:41:12.896316Z",
          "iopub.status.busy": "2020-09-17T20:41:12.895426Z",
          "iopub.status.idle": "2020-09-17T20:41:13.193146Z",
          "shell.execute_reply": "2020-09-17T20:41:13.194103Z"
        },
        "papermill": {
          "duration": 0.356449,
          "end_time": "2020-09-17T20:41:13.194341",
          "exception": false,
          "start_time": "2020-09-17T20:41:12.837892",
          "status": "completed"
        },
        "tags": [],
        "id": "Jt3oVMe-riMO",
        "outputId": "51584c87-f332-4e5a-d32e-293e270b6ac4",
        "colab": {
          "base_uri": "https://localhost:8080/",
          "height": 319
        }
      },
      "source": [
        "sns.countplot(pre_lab);"
      ],
      "execution_count": 19,
      "outputs": [
        {
          "output_type": "stream",
          "text": [
            "/usr/local/lib/python3.6/dist-packages/seaborn/_decorators.py:43: FutureWarning: Pass the following variable as a keyword arg: x. From version 0.12, the only valid positional argument will be `data`, and passing other arguments without an explicit keyword will result in an error or misinterpretation.\n",
            "  FutureWarning\n"
          ],
          "name": "stderr"
        },
        {
          "output_type": "display_data",
          "data": {
            "image/png": "[encoded data removed]",
            "text/plain": [
              "<Figure size 432x288 with 1 Axes>"
            ]
          },
          "metadata": {
            "tags": [],
            "needs_background": "light"
          }
        }
      ]
    },
    {
      "cell_type": "markdown",
      "metadata": {
        "id": "gWLJ_M8876IV"
      },
      "source": [
        "# Now the blurry part. I use gaussian blur with sigma = 1 for 40% of each class\n",
        "## Then pass it through preprocessings fuction which is first detected whether the incoming image is blurry or not. IF it is not blurry then it use Canny edge filerting directly upon it. But it is blurry then we can not use canny edge filtering directly because Canny edge filter take the image then first use a gaussian kernel to blur the image. So, first step is already done for this steps. So I implement other steps as functions which is \n",
        "1. Non maximum supression\n",
        "2. Thresholding\n",
        "3. Hystersis thresholding\n",
        "\n",
        "## Use this three step seperatly with hand written fuction on the blurry images\n",
        "#[Canny edge detector](https://en.wikipedia.org/wiki/Canny_edge_detector)"
      ]
    },
    {
      "cell_type": "code",
      "metadata": {
        "execution": {
          "iopub.execute_input": "2020-09-17T20:41:13.292369Z",
          "iopub.status.busy": "2020-09-17T20:41:13.285429Z",
          "iopub.status.idle": "2020-09-17T20:41:31.831760Z",
          "shell.execute_reply": "2020-09-17T20:41:31.830742Z"
        },
        "papermill": {
          "duration": 18.597196,
          "end_time": "2020-09-17T20:41:31.831889",
          "exception": false,
          "start_time": "2020-09-17T20:41:13.234693",
          "status": "completed"
        },
        "tags": [],
        "id": "YK2BmKWDriMU"
      },
      "source": [
        "X_train = X_train.reshape(X_train.shape[0], img_rows, img_cols, 1)\n",
        "X_test = X_test.reshape(X_test.shape[0], img_rows, img_cols, 1)\n",
        "X_val = X_val.reshape(X_val.shape[0], img_rows, img_cols, 1)\n",
        "\n",
        "temp1 = X_test.copy()\n",
        "temp2 = X_test.copy()\n",
        "blurry_x = temp1[:100]\n",
        "not_blurry_x = temp2[:100]\n",
        "\n",
        "for i in range(int(0.4*X_train.shape[0])):\n",
        "    img = X_train[i]\n",
        "    img = img.astype('float32')\n",
        "    img = np.reshape(img,(28,28))\n",
        "    img = cv2.GaussianBlur(img,(5,5),1)\n",
        "    img = img.reshape(28,28,1)\n",
        "    X_train[i] = img\n",
        "\n",
        "for i in range(int(0.4*X_val.shape[0])):\n",
        "    img = X_val[i]\n",
        "    img = np.reshape(img,(28,28))\n",
        "    img = img.astype('float32')\n",
        "    img = cv2.GaussianBlur(img,(5,5),1)\n",
        "    img = img.reshape(28,28,1)\n",
        "    X_val[i] = img\n",
        "    \n",
        "for i in range(X_train.shape[0]):\n",
        "    img = preprocessing(X_train[i].reshape(28,28))\n",
        "    img = img.reshape(28,28,1)\n",
        "    X_train[i] = img\n",
        "\n",
        "for i in range(X_val.shape[0]):\n",
        "    img = preprocessing(X_val[i].reshape(28,28))\n",
        "    img = img.reshape(28,28,1)\n",
        "    X_val[i] = img\n",
        "\n",
        "for i in range(X_test.shape[0]):\n",
        "    img = preprocessing(X_test[i].reshape(28,28))\n",
        "    img = img.reshape(28,28,1)\n",
        "    X_test[i] = img\n",
        "\n",
        "\n",
        "test_y = y_test[:100]\n",
        "\n",
        "X_train = X_train.astype('float32')\n",
        "X_test = X_test.astype('float32')\n",
        "X_val = X_val.astype('float32')\n",
        "X_train /= 255\n",
        "X_test /= 255\n",
        "X_val /= 255"
      ],
      "execution_count": 20,
      "outputs": []
    },
    {
      "cell_type": "markdown",
      "metadata": {
        "id": "UvCYToHT99SD"
      },
      "source": [
        "## Define the Deep learning model with sequential model"
      ]
    },
    {
      "cell_type": "code",
      "metadata": {
        "execution": {
          "iopub.execute_input": "2020-09-17T20:41:33.098140Z",
          "iopub.status.busy": "2020-09-17T20:41:33.097431Z",
          "iopub.status.idle": "2020-09-17T20:41:36.360269Z",
          "shell.execute_reply": "2020-09-17T20:41:36.359436Z"
        },
        "papermill": {
          "duration": 3.315452,
          "end_time": "2020-09-17T20:41:36.360441",
          "exception": false,
          "start_time": "2020-09-17T20:41:33.044989",
          "status": "completed"
        },
        "tags": [],
        "id": "GKB8VkF-riM8",
        "outputId": "3d452809-7505-400e-cdec-45cdf8dc250c",
        "colab": {
          "base_uri": "https://localhost:8080/",
          "height": 697
        }
      },
      "source": [
        "batch_size = 256\n",
        "num_classes = 10\n",
        "epochs = 50\n",
        "\n",
        "#input image dimensions\n",
        "img_rows, img_cols = 28, 28\n",
        "\n",
        "model = Sequential()\n",
        "model.add(Conv2D(32, kernel_size=(3, 3),\n",
        "                 activation='relu',\n",
        "                 kernel_initializer='he_normal',\n",
        "                 input_shape=input_shape))\n",
        "model.add(MaxPooling2D((2, 2)))\n",
        "model.add(BatchNormalization())\n",
        "model.add(Dropout(0.25))\n",
        "model.add(Conv2D(64, (3, 3), activation='relu',activity_regularizer=regularizers.l2(1e-5)))\n",
        "model.add(MaxPooling2D(pool_size=(2, 2)))\n",
        "model.add(BatchNormalization())\n",
        "model.add(Dropout(0.25))\n",
        "model.add(Conv2D(128, (3, 3), activation='relu',activity_regularizer=regularizers.l2(1e-5)))\n",
        "model.add(BatchNormalization())\n",
        "model.add(Dropout(0.4))\n",
        "model.add(Flatten())\n",
        "model.add(Dense(128, activation='relu',activity_regularizer=regularizers.l2(1e-5)))\n",
        "model.add(BatchNormalization())\n",
        "model.add(Dropout(0.3))\n",
        "model.add(Dense(num_classes, activation='softmax'))\n",
        "\n",
        "model.compile(loss=keras.losses.categorical_crossentropy,\n",
        "              optimizer=keras.optimizers.Adam(),\n",
        "              metrics=['accuracy'])\n",
        "model.summary()"
      ],
      "execution_count": 21,
      "outputs": [
        {
          "output_type": "stream",
          "text": [
            "Model: \"sequential\"\n",
            "_________________________________________________________________\n",
            "Layer (type)                 Output Shape              Param #   \n",
            "=================================================================\n",
            "conv2d (Conv2D)              (None, 26, 26, 32)        320       \n",
            "_________________________________________________________________\n",
            "max_pooling2d (MaxPooling2D) (None, 13, 13, 32)        0         \n",
            "_________________________________________________________________\n",
            "batch_normalization (BatchNo (None, 13, 13, 32)        128       \n",
            "_________________________________________________________________\n",
            "dropout (Dropout)            (None, 13, 13, 32)        0         \n",
            "_________________________________________________________________\n",
            "conv2d_1 (Conv2D)            (None, 11, 11, 64)        18496     \n",
            "_________________________________________________________________\n",
            "max_pooling2d_1 (MaxPooling2 (None, 5, 5, 64)          0         \n",
            "_________________________________________________________________\n",
            "batch_normalization_1 (Batch (None, 5, 5, 64)          256       \n",
            "_________________________________________________________________\n",
            "dropout_1 (Dropout)          (None, 5, 5, 64)          0         \n",
            "_________________________________________________________________\n",
            "conv2d_2 (Conv2D)            (None, 3, 3, 128)         73856     \n",
            "_________________________________________________________________\n",
            "batch_normalization_2 (Batch (None, 3, 3, 128)         512       \n",
            "_________________________________________________________________\n",
            "dropout_2 (Dropout)          (None, 3, 3, 128)         0         \n",
            "_________________________________________________________________\n",
            "flatten (Flatten)            (None, 1152)              0         \n",
            "_________________________________________________________________\n",
            "dense (Dense)                (None, 128)               147584    \n",
            "_________________________________________________________________\n",
            "batch_normalization_3 (Batch (None, 128)               512       \n",
            "_________________________________________________________________\n",
            "dropout_3 (Dropout)          (None, 128)               0         \n",
            "_________________________________________________________________\n",
            "dense_1 (Dense)              (None, 10)                1290      \n",
            "=================================================================\n",
            "Total params: 242,954\n",
            "Trainable params: 242,250\n",
            "Non-trainable params: 704\n",
            "_________________________________________________________________\n"
          ],
          "name": "stdout"
        }
      ]
    },
    {
      "cell_type": "markdown",
      "metadata": {
        "id": "lYrNAyXe-GCA"
      },
      "source": [
        "# Train it with adam optimizer"
      ]
    },
    {
      "cell_type": "code",
      "metadata": {
        "execution": {
          "iopub.execute_input": "2020-09-17T20:41:36.449056Z",
          "iopub.status.busy": "2020-09-17T20:41:36.448395Z",
          "iopub.status.idle": "2020-09-17T20:42:18.615825Z",
          "shell.execute_reply": "2020-09-17T20:42:18.615111Z"
        },
        "papermill": {
          "duration": 42.213881,
          "end_time": "2020-09-17T20:42:18.615976",
          "exception": false,
          "start_time": "2020-09-17T20:41:36.402095",
          "status": "completed"
        },
        "tags": [],
        "id": "WmVQRcVhriNJ",
        "outputId": "3cd6ea27-289e-43b1-d6c1-c153231b7364",
        "colab": {
          "base_uri": "https://localhost:8080/",
          "height": 1000
        }
      },
      "source": [
        "early = EarlyStopping(monitor='val_loss', mode='min', verbose=1, patience=5)\n",
        "callback = LearningRateScheduler(scheduler)\n",
        "\n",
        "output = model.fit(X_train, y_train,\n",
        "          batch_size=batch_size,\n",
        "          epochs=50,\n",
        "          verbose=1,\n",
        "          validation_data=(X_val, y_val),callbacks=[callback,early])"
      ],
      "execution_count": 22,
      "outputs": [
        {
          "output_type": "stream",
          "text": [
            "Epoch 1/50\n",
            "188/188 [==============================] - 3s 14ms/step - loss: 0.7960 - accuracy: 0.7318 - val_loss: 0.6296 - val_accuracy: 0.7885\n",
            "Epoch 2/50\n",
            "188/188 [==============================] - 2s 12ms/step - loss: 0.5498 - accuracy: 0.8118 - val_loss: 0.5361 - val_accuracy: 0.8088\n",
            "Epoch 3/50\n",
            "188/188 [==============================] - 2s 12ms/step - loss: 0.4895 - accuracy: 0.8330 - val_loss: 0.4988 - val_accuracy: 0.8213\n",
            "Epoch 4/50\n",
            "188/188 [==============================] - 2s 12ms/step - loss: 0.4495 - accuracy: 0.8449 - val_loss: 0.4756 - val_accuracy: 0.8284\n",
            "Epoch 5/50\n",
            "188/188 [==============================] - 2s 12ms/step - loss: 0.4244 - accuracy: 0.8547 - val_loss: 0.4854 - val_accuracy: 0.8247\n",
            "Epoch 6/50\n",
            "188/188 [==============================] - 2s 12ms/step - loss: 0.4027 - accuracy: 0.8610 - val_loss: 0.4558 - val_accuracy: 0.8339\n",
            "Epoch 7/50\n",
            "188/188 [==============================] - 2s 12ms/step - loss: 0.3868 - accuracy: 0.8664 - val_loss: 0.4433 - val_accuracy: 0.8388\n",
            "Epoch 8/50\n",
            "188/188 [==============================] - 2s 12ms/step - loss: 0.3763 - accuracy: 0.8683 - val_loss: 0.4373 - val_accuracy: 0.8388\n",
            "Epoch 9/50\n",
            "188/188 [==============================] - 2s 12ms/step - loss: 0.3652 - accuracy: 0.8736 - val_loss: 0.4198 - val_accuracy: 0.8491\n",
            "Epoch 10/50\n",
            "188/188 [==============================] - 2s 12ms/step - loss: 0.3581 - accuracy: 0.8757 - val_loss: 0.4144 - val_accuracy: 0.8495\n",
            "Epoch 11/50\n",
            "188/188 [==============================] - 2s 12ms/step - loss: 0.3424 - accuracy: 0.8805 - val_loss: 0.4097 - val_accuracy: 0.8531\n",
            "Epoch 12/50\n",
            "188/188 [==============================] - 2s 12ms/step - loss: 0.3307 - accuracy: 0.8849 - val_loss: 0.4004 - val_accuracy: 0.8568\n",
            "Epoch 13/50\n",
            "188/188 [==============================] - 2s 12ms/step - loss: 0.3237 - accuracy: 0.8874 - val_loss: 0.4033 - val_accuracy: 0.8560\n",
            "Epoch 14/50\n",
            "188/188 [==============================] - 2s 12ms/step - loss: 0.3152 - accuracy: 0.8903 - val_loss: 0.4016 - val_accuracy: 0.8543\n",
            "Epoch 15/50\n",
            "188/188 [==============================] - 2s 12ms/step - loss: 0.3087 - accuracy: 0.8917 - val_loss: 0.4140 - val_accuracy: 0.8503\n",
            "Epoch 16/50\n",
            "188/188 [==============================] - 2s 12ms/step - loss: 0.3003 - accuracy: 0.8944 - val_loss: 0.3926 - val_accuracy: 0.8597\n",
            "Epoch 17/50\n",
            "188/188 [==============================] - 2s 12ms/step - loss: 0.2984 - accuracy: 0.8956 - val_loss: 0.3973 - val_accuracy: 0.8587\n",
            "Epoch 18/50\n",
            "188/188 [==============================] - 2s 12ms/step - loss: 0.2929 - accuracy: 0.8975 - val_loss: 0.4050 - val_accuracy: 0.8562\n",
            "Epoch 19/50\n",
            "188/188 [==============================] - 2s 12ms/step - loss: 0.2868 - accuracy: 0.8981 - val_loss: 0.3881 - val_accuracy: 0.8620\n",
            "Epoch 20/50\n",
            "188/188 [==============================] - 2s 12ms/step - loss: 0.2812 - accuracy: 0.9011 - val_loss: 0.3944 - val_accuracy: 0.8585\n",
            "Epoch 21/50\n",
            "188/188 [==============================] - 2s 12ms/step - loss: 0.2796 - accuracy: 0.9002 - val_loss: 0.4012 - val_accuracy: 0.8576\n",
            "Epoch 22/50\n",
            "188/188 [==============================] - 2s 12ms/step - loss: 0.2738 - accuracy: 0.9038 - val_loss: 0.3866 - val_accuracy: 0.8633\n",
            "Epoch 23/50\n",
            "188/188 [==============================] - 2s 12ms/step - loss: 0.2720 - accuracy: 0.9038 - val_loss: 0.3977 - val_accuracy: 0.8594\n",
            "Epoch 24/50\n",
            "188/188 [==============================] - 2s 12ms/step - loss: 0.2665 - accuracy: 0.9059 - val_loss: 0.3869 - val_accuracy: 0.8638\n",
            "Epoch 25/50\n",
            "188/188 [==============================] - 2s 12ms/step - loss: 0.2673 - accuracy: 0.9060 - val_loss: 0.3872 - val_accuracy: 0.8611\n",
            "Epoch 26/50\n",
            "188/188 [==============================] - 2s 12ms/step - loss: 0.2639 - accuracy: 0.9066 - val_loss: 0.3856 - val_accuracy: 0.8628\n",
            "Epoch 27/50\n",
            "188/188 [==============================] - 2s 12ms/step - loss: 0.2613 - accuracy: 0.9071 - val_loss: 0.3843 - val_accuracy: 0.8630\n",
            "Epoch 28/50\n",
            "188/188 [==============================] - 2s 12ms/step - loss: 0.2550 - accuracy: 0.9095 - val_loss: 0.3902 - val_accuracy: 0.8612\n",
            "Epoch 29/50\n",
            "188/188 [==============================] - 2s 13ms/step - loss: 0.2554 - accuracy: 0.9085 - val_loss: 0.3923 - val_accuracy: 0.8623\n",
            "Epoch 30/50\n",
            "188/188 [==============================] - 2s 12ms/step - loss: 0.2519 - accuracy: 0.9104 - val_loss: 0.3897 - val_accuracy: 0.8635\n",
            "Epoch 31/50\n",
            "188/188 [==============================] - 2s 12ms/step - loss: 0.2504 - accuracy: 0.9112 - val_loss: 0.3925 - val_accuracy: 0.8620\n",
            "Epoch 32/50\n",
            "188/188 [==============================] - 2s 12ms/step - loss: 0.2472 - accuracy: 0.9119 - val_loss: 0.3915 - val_accuracy: 0.8623\n",
            "Epoch 00032: early stopping\n"
          ],
          "name": "stdout"
        }
      ]
    },
    {
      "cell_type": "markdown",
      "metadata": {
        "id": "G8BKmdNa-L8R"
      },
      "source": [
        "#Plot accuracy and loss plot"
      ]
    },
    {
      "cell_type": "code",
      "metadata": {
        "execution": {
          "iopub.execute_input": "2020-09-17T20:42:19.192717Z",
          "iopub.status.busy": "2020-09-17T20:42:19.185013Z",
          "iopub.status.idle": "2020-09-17T20:42:19.535203Z",
          "shell.execute_reply": "2020-09-17T20:42:19.534626Z"
        },
        "papermill": {
          "duration": 0.636795,
          "end_time": "2020-09-17T20:42:19.535328",
          "exception": false,
          "start_time": "2020-09-17T20:42:18.898533",
          "status": "completed"
        },
        "tags": [],
        "id": "4uY2deEGriNS",
        "outputId": "4054167a-4567-446a-f746-411eba6e16b6",
        "colab": {
          "base_uri": "https://localhost:8080/",
          "height": 465
        }
      },
      "source": [
        "plt.figure(figsize=(6,3))\n",
        "#history of accuracy\n",
        "plt.plot(output.history['accuracy'])\n",
        "plt.plot(output.history['val_accuracy'])\n",
        "plt.title('classifier accuracy')\n",
        "plt.ylabel('accuracy')\n",
        "plt.xlabel('epoch')\n",
        "plt.legend(['train', 'test'], loc='upper left')\n",
        "plt.show()\n",
        "# summarize history for loss\n",
        "plt.figure(figsize=(6,3))\n",
        "plt.plot(output.history['loss'])\n",
        "plt.plot(output.history['val_loss'])\n",
        "plt.title('classifier loss')\n",
        "plt.ylabel('loss')\n",
        "plt.xlabel('epoch')\n",
        "plt.legend(['train', 'test'], loc='upper left')\n",
        "plt.show()"
      ],
      "execution_count": 23,
      "outputs": [
        {
          "output_type": "display_data",
          "data": {
            "image/png": "[encoded data removed]",
            "text/plain": [
              "<Figure size 432x216 with 1 Axes>"
            ]
          },
          "metadata": {
            "tags": [],
            "needs_background": "light"
          }
        },
        {
          "output_type": "display_data",
          "data": {
            "image/png": "[encoded data removed]",
            "text/plain": [
              "<Figure size 432x216 with 1 Axes>"
            ]
          },
          "metadata": {
            "tags": [],
            "needs_background": "light"
          }
        }
      ]
    },
    {
      "cell_type": "markdown",
      "metadata": {
        "id": "uTRLHPQD-U_A"
      },
      "source": [
        "# Test accuracy and loss values"
      ]
    },
    {
      "cell_type": "code",
      "metadata": {
        "execution": {
          "iopub.execute_input": "2020-09-17T20:42:20.161387Z",
          "iopub.status.busy": "2020-09-17T20:42:20.160157Z",
          "iopub.status.idle": "2020-09-17T20:42:24.614135Z",
          "shell.execute_reply": "2020-09-17T20:42:24.614995Z"
        },
        "papermill": {
          "duration": 4.780603,
          "end_time": "2020-09-17T20:42:24.615191",
          "exception": false,
          "start_time": "2020-09-17T20:42:19.834588",
          "status": "completed"
        },
        "tags": [],
        "id": "7Hcy2-UzriNY",
        "outputId": "506d066e-ed54-424e-a1ff-d5784b37fb67",
        "colab": {
          "base_uri": "https://localhost:8080/",
          "height": 51
        }
      },
      "source": [
        "score = model.evaluate(X_test, y_test, verbose=0)\n",
        "print('Test loss:', score[0])\n",
        "print('Test accuracy:', score[1])"
      ],
      "execution_count": 24,
      "outputs": [
        {
          "output_type": "stream",
          "text": [
            "Test loss: 0.2690594494342804\n",
            "Test accuracy: 0.9074166417121887\n"
          ],
          "name": "stdout"
        }
      ]
    },
    {
      "cell_type": "markdown",
      "metadata": {
        "id": "fl10qJhQ-k03"
      },
      "source": [
        "# Now perfrom model analysis how my model perfrom on blurry and notblurry images\n",
        "Take 100 image from test set, extract edges from it, then test it with model, then make them blurry and extract edges then test it with our model and print loss,accuracyv values for both cases"
      ]
    },
    {
      "cell_type": "markdown",
      "metadata": {
        "id": "UQcOxfb6-cSV"
      },
      "source": [
        "## A not blurry image"
      ]
    },
    {
      "cell_type": "code",
      "metadata": {
        "execution": {
          "iopub.execute_input": "2020-09-17T20:42:25.187322Z",
          "iopub.status.busy": "2020-09-17T20:42:25.185493Z",
          "iopub.status.idle": "2020-09-17T20:42:25.344516Z",
          "shell.execute_reply": "2020-09-17T20:42:25.345158Z"
        },
        "papermill": {
          "duration": 0.452122,
          "end_time": "2020-09-17T20:42:25.345333",
          "exception": false,
          "start_time": "2020-09-17T20:42:24.893211",
          "status": "completed"
        },
        "tags": [],
        "id": "nI43UX2HriNd",
        "outputId": "f269163e-ff65-4f49-931e-f823e952d91c",
        "colab": {
          "base_uri": "https://localhost:8080/",
          "height": 0
        }
      },
      "source": [
        "plt.imshow(not_blurry_x[10].reshape(28,28))\n",
        "plt.axis(\"off\");"
      ],
      "execution_count": 25,
      "outputs": [
        {
          "output_type": "display_data",
          "data": {
            "image/png": "[encoded data removed]",
            "text/plain": [
              "<Figure size 432x288 with 1 Axes>"
            ]
          },
          "metadata": {
            "tags": [],
            "needs_background": "light"
          }
        }
      ]
    },
    {
      "cell_type": "markdown",
      "metadata": {
        "id": "wfibRR9qBEVH"
      },
      "source": [
        "# Extract edges from not blurry images"
      ]
    },
    {
      "cell_type": "code",
      "metadata": {
        "execution": {
          "iopub.execute_input": "2020-09-17T20:42:26.697125Z",
          "iopub.status.busy": "2020-09-17T20:42:26.696193Z",
          "iopub.status.idle": "2020-09-17T20:42:26.869792Z",
          "shell.execute_reply": "2020-09-17T20:42:26.870368Z"
        },
        "papermill": {
          "duration": 0.464045,
          "end_time": "2020-09-17T20:42:26.870535",
          "exception": false,
          "start_time": "2020-09-17T20:42:26.406490",
          "status": "completed"
        },
        "tags": [],
        "id": "ywIwkWWfriNu"
      },
      "source": [
        "for i in range(not_blurry_x.shape[0]):\n",
        "    img = preprocessing(not_blurry_x[i].reshape(28,28))\n",
        "    img = img.reshape(28,28,1)\n",
        "    not_blurry_x[i] = img"
      ],
      "execution_count": 26,
      "outputs": []
    },
    {
      "cell_type": "markdown",
      "metadata": {
        "id": "QadxKA9x_WAJ"
      },
      "source": [
        "# Plot edges of a not blurry "
      ]
    },
    {
      "cell_type": "code",
      "metadata": {
        "id": "Y28VpQPu_05C",
        "outputId": "8a2200c9-271d-4099-c5f9-1a09e0f5bd57",
        "colab": {
          "base_uri": "https://localhost:8080/",
          "height": 248
        }
      },
      "source": [
        "plt.imshow(not_blurry_x[10].reshape(28,28))\n",
        "plt.axis(\"off\");"
      ],
      "execution_count": 27,
      "outputs": [
        {
          "output_type": "display_data",
          "data": {
            "image/png": "[encoded data removed]",
            "text/plain": [
              "<Figure size 432x288 with 1 Axes>"
            ]
          },
          "metadata": {
            "tags": [],
            "needs_background": "light"
          }
        }
      ]
    },
    {
      "cell_type": "markdown",
      "metadata": {
        "id": "fa9fRCuGEaQU"
      },
      "source": [
        "## Blurry version of top not blurry image"
      ]
    },
    {
      "cell_type": "code",
      "metadata": {
        "id": "AGsQChW5ERzq",
        "outputId": "0a698513-0c3e-49da-c2ec-a362d08ce323",
        "colab": {
          "base_uri": "https://localhost:8080/",
          "height": 265
        }
      },
      "source": [
        "img = blurry_x[10]\n",
        "print(img.shape)\n",
        "img = img.astype(np.float32)\n",
        "img = cv2.GaussianBlur(img,(5,5),1)\n",
        "plt.imshow(img.reshape(28,28))\n",
        "plt.axis(\"off\");"
      ],
      "execution_count": 28,
      "outputs": [
        {
          "output_type": "stream",
          "text": [
            "(28, 28, 1)\n"
          ],
          "name": "stdout"
        },
        {
          "output_type": "display_data",
          "data": {
            "image/png": "[encoded data removed]",
            "text/plain": [
              "<Figure size 432x288 with 1 Axes>"
            ]
          },
          "metadata": {
            "tags": [],
            "needs_background": "light"
          }
        }
      ]
    },
    {
      "cell_type": "markdown",
      "metadata": {
        "id": "_T8IeBkW_M-m"
      },
      "source": [
        "# Plot blurry edge detected version of that image"
      ]
    },
    {
      "cell_type": "code",
      "metadata": {
        "execution": {
          "iopub.execute_input": "2020-09-17T20:42:25.942828Z",
          "iopub.status.busy": "2020-09-17T20:42:25.941746Z",
          "iopub.status.idle": "2020-09-17T20:42:26.099782Z",
          "shell.execute_reply": "2020-09-17T20:42:26.100368Z"
        },
        "papermill": {
          "duration": 0.444546,
          "end_time": "2020-09-17T20:42:26.100566",
          "exception": false,
          "start_time": "2020-09-17T20:42:25.656020",
          "status": "completed"
        },
        "tags": [],
        "id": "a9FhcrgVriNp"
      },
      "source": [
        "for i in range(blurry_x.shape[0]):\n",
        "    img = blurry_x[i]\n",
        "    img = img.astype('float32')\n",
        "    img = np.reshape(img,(28,28))\n",
        "    img = cv2.GaussianBlur(img,(5,5),1)\n",
        "    img = preprocessing(img.reshape(28,28))\n",
        "    img = img.reshape(28,28,1)\n",
        "    blurry_x[i] = img"
      ],
      "execution_count": 29,
      "outputs": []
    },
    {
      "cell_type": "markdown",
      "metadata": {
        "id": "AW8s6p8uBPLh"
      },
      "source": [
        "# Plot edges of a blurry "
      ]
    },
    {
      "cell_type": "code",
      "metadata": {
        "id": "aTvaO0HbBQWv",
        "outputId": "f02651ad-81b7-4ceb-e9fb-df0f2ac6889e",
        "colab": {
          "base_uri": "https://localhost:8080/",
          "height": 248
        }
      },
      "source": [
        "plt.imshow(blurry_x[10].reshape(28,28))\n",
        "plt.axis(\"off\");"
      ],
      "execution_count": 30,
      "outputs": [
        {
          "output_type": "display_data",
          "data": {
            "image/png": "[encoded data removed]",
            "text/plain": [
              "<Figure size 432x288 with 1 Axes>"
            ]
          },
          "metadata": {
            "tags": [],
            "needs_background": "light"
          }
        }
      ]
    },
    {
      "cell_type": "markdown",
      "metadata": {
        "id": "nqppPWjhAX8J"
      },
      "source": [
        "## Test the model with not_blurry images,print it loss and accuracy\n",
        "\n"
      ]
    },
    {
      "cell_type": "code",
      "metadata": {
        "execution": {
          "iopub.execute_input": "2020-09-17T20:42:27.481695Z",
          "iopub.status.busy": "2020-09-17T20:42:27.480719Z",
          "iopub.status.idle": "2020-09-17T20:42:27.550594Z",
          "shell.execute_reply": "2020-09-17T20:42:27.549843Z"
        },
        "papermill": {
          "duration": 0.365165,
          "end_time": "2020-09-17T20:42:27.550738",
          "exception": false,
          "start_time": "2020-09-17T20:42:27.185573",
          "status": "completed"
        },
        "tags": [],
        "id": "rrlZ1vcDriN0",
        "outputId": "fe9dd43b-dc98-4d7a-896d-6e5eece559bf",
        "colab": {
          "base_uri": "https://localhost:8080/",
          "height": 51
        }
      },
      "source": [
        "score = model.evaluate(not_blurry_x/255., test_y, verbose=0)\n",
        "print('Test loss:', score[0])\n",
        "print('Test accuracy:', score[1])"
      ],
      "execution_count": 31,
      "outputs": [
        {
          "output_type": "stream",
          "text": [
            "Test loss: 0.3100737929344177\n",
            "Test accuracy: 0.9100000262260437\n"
          ],
          "name": "stdout"
        }
      ]
    },
    {
      "cell_type": "markdown",
      "metadata": {
        "id": "hHOD5XAZBhcR"
      },
      "source": [
        "## Test the model with blurry images,print it loss and accuracy\n"
      ]
    },
    {
      "cell_type": "code",
      "metadata": {
        "execution": {
          "iopub.execute_input": "2020-09-17T20:42:30.119963Z",
          "iopub.status.busy": "2020-09-17T20:42:30.118334Z",
          "iopub.status.idle": "2020-09-17T20:42:30.178416Z",
          "shell.execute_reply": "2020-09-17T20:42:30.178991Z"
        },
        "papermill": {
          "duration": 0.35757,
          "end_time": "2020-09-17T20:42:30.179201",
          "exception": false,
          "start_time": "2020-09-17T20:42:29.821631",
          "status": "completed"
        },
        "tags": [],
        "id": "fc_SYroyriOC",
        "outputId": "faf85100-fff0-4977-c9cd-4546b8845e47",
        "colab": {
          "base_uri": "https://localhost:8080/",
          "height": 51
        }
      },
      "source": [
        "score = model.evaluate(blurry_x/255., test_y, verbose=0)\n",
        "print('Test loss:', score[0])\n",
        "print('Test accuracy:', score[1])"
      ],
      "execution_count": 32,
      "outputs": [
        {
          "output_type": "stream",
          "text": [
            "Test loss: 0.34435921907424927\n",
            "Test accuracy: 0.8899999856948853\n"
          ],
          "name": "stdout"
        }
      ]
    },
    {
      "cell_type": "markdown",
      "metadata": {
        "id": "LagbN-V6Bt5T"
      },
      "source": [
        "#Save the model as h5 file"
      ]
    },
    {
      "cell_type": "code",
      "metadata": {
        "execution": {
          "iopub.execute_input": "2020-09-17T20:42:30.765333Z",
          "iopub.status.busy": "2020-09-17T20:42:30.764369Z",
          "iopub.status.idle": "2020-09-17T20:42:30.826454Z",
          "shell.execute_reply": "2020-09-17T20:42:30.825863Z"
        },
        "papermill": {
          "duration": 0.363666,
          "end_time": "2020-09-17T20:42:30.826574",
          "exception": false,
          "start_time": "2020-09-17T20:42:30.462908",
          "status": "completed"
        },
        "tags": [],
        "id": "e0eYkQhVriOG"
      },
      "source": [
        "#save model\n",
        "model.save(r\"/content/drive/My Drive/fashion mnist/model.h5\")"
      ],
      "execution_count": 33,
      "outputs": []
    },
    {
      "cell_type": "markdown",
      "metadata": {
        "id": "4ayqaqHkBxog"
      },
      "source": [
        "#Load the model and test it whether it perfrom well or not"
      ]
    },
    {
      "cell_type": "code",
      "metadata": {
        "execution": {
          "iopub.execute_input": "2020-09-17T20:42:31.409056Z",
          "iopub.status.busy": "2020-09-17T20:42:31.407834Z",
          "iopub.status.idle": "2020-09-17T20:42:31.719464Z",
          "shell.execute_reply": "2020-09-17T20:42:31.717953Z"
        },
        "papermill": {
          "duration": 0.615337,
          "end_time": "2020-09-17T20:42:31.719594",
          "exception": false,
          "start_time": "2020-09-17T20:42:31.104257",
          "status": "completed"
        },
        "tags": [],
        "id": "kw2vCnVFriOJ"
      },
      "source": [
        "# load model\n",
        "model = load_model(\"/content/drive/My Drive/fashion mnist/model.h5\")"
      ],
      "execution_count": 34,
      "outputs": []
    },
    {
      "cell_type": "code",
      "metadata": {
        "execution": {
          "iopub.execute_input": "2020-09-17T20:42:32.292224Z",
          "iopub.status.busy": "2020-09-17T20:42:32.289597Z",
          "iopub.status.idle": "2020-09-17T20:42:32.305702Z",
          "shell.execute_reply": "2020-09-17T20:42:32.306680Z"
        },
        "papermill": {
          "duration": 0.303998,
          "end_time": "2020-09-17T20:42:32.307116",
          "exception": false,
          "start_time": "2020-09-17T20:42:32.003118",
          "status": "completed"
        },
        "tags": [],
        "id": "JeTiyw_XriOM",
        "outputId": "75e29574-e614-469f-dc8e-e1d038020f3a",
        "colab": {
          "base_uri": "https://localhost:8080/",
          "height": 697
        }
      },
      "source": [
        "# summarize model.\n",
        "model.summary()"
      ],
      "execution_count": 35,
      "outputs": [
        {
          "output_type": "stream",
          "text": [
            "Model: \"sequential\"\n",
            "_________________________________________________________________\n",
            "Layer (type)                 Output Shape              Param #   \n",
            "=================================================================\n",
            "conv2d (Conv2D)              (None, 26, 26, 32)        320       \n",
            "_________________________________________________________________\n",
            "max_pooling2d (MaxPooling2D) (None, 13, 13, 32)        0         \n",
            "_________________________________________________________________\n",
            "batch_normalization (BatchNo (None, 13, 13, 32)        128       \n",
            "_________________________________________________________________\n",
            "dropout (Dropout)            (None, 13, 13, 32)        0         \n",
            "_________________________________________________________________\n",
            "conv2d_1 (Conv2D)            (None, 11, 11, 64)        18496     \n",
            "_________________________________________________________________\n",
            "max_pooling2d_1 (MaxPooling2 (None, 5, 5, 64)          0         \n",
            "_________________________________________________________________\n",
            "batch_normalization_1 (Batch (None, 5, 5, 64)          256       \n",
            "_________________________________________________________________\n",
            "dropout_1 (Dropout)          (None, 5, 5, 64)          0         \n",
            "_________________________________________________________________\n",
            "conv2d_2 (Conv2D)            (None, 3, 3, 128)         73856     \n",
            "_________________________________________________________________\n",
            "batch_normalization_2 (Batch (None, 3, 3, 128)         512       \n",
            "_________________________________________________________________\n",
            "dropout_2 (Dropout)          (None, 3, 3, 128)         0         \n",
            "_________________________________________________________________\n",
            "flatten (Flatten)            (None, 1152)              0         \n",
            "_________________________________________________________________\n",
            "dense (Dense)                (None, 128)               147584    \n",
            "_________________________________________________________________\n",
            "batch_normalization_3 (Batch (None, 128)               512       \n",
            "_________________________________________________________________\n",
            "dropout_3 (Dropout)          (None, 128)               0         \n",
            "_________________________________________________________________\n",
            "dense_1 (Dense)              (None, 10)                1290      \n",
            "=================================================================\n",
            "Total params: 242,954\n",
            "Trainable params: 242,250\n",
            "Non-trainable params: 704\n",
            "_________________________________________________________________\n"
          ],
          "name": "stdout"
        }
      ]
    },
    {
      "cell_type": "code",
      "metadata": {
        "execution": {
          "iopub.execute_input": "2020-09-17T20:42:33.093295Z",
          "iopub.status.busy": "2020-09-17T20:42:33.092166Z",
          "iopub.status.idle": "2020-09-17T20:42:33.330281Z",
          "shell.execute_reply": "2020-09-17T20:42:33.329130Z"
        },
        "papermill": {
          "duration": 0.608128,
          "end_time": "2020-09-17T20:42:33.330412",
          "exception": false,
          "start_time": "2020-09-17T20:42:32.722284",
          "status": "completed"
        },
        "tags": [],
        "id": "R1rie41jriOP",
        "outputId": "8b02dda2-0335-49e3-8ba5-b9b669badc75",
        "colab": {
          "base_uri": "https://localhost:8080/",
          "height": 51
        }
      },
      "source": [
        "score = model.evaluate(blurry_x/255., test_y, verbose=0)\n",
        "print('Test loss:', score[0])\n",
        "print('Test accuracy:', score[1])"
      ],
      "execution_count": 36,
      "outputs": [
        {
          "output_type": "stream",
          "text": [
            "Test loss: 0.34435921907424927\n",
            "Test accuracy: 0.8899999856948853\n"
          ],
          "name": "stdout"
        }
      ]
    },
    {
      "cell_type": "code",
      "metadata": {
        "papermill": {
          "duration": 0.280479,
          "end_time": "2020-09-17T20:42:33.893023",
          "exception": false,
          "start_time": "2020-09-17T20:42:33.612544",
          "status": "completed"
        },
        "tags": [],
        "id": "_vTgibCWriOS"
      },
      "source": [
        ""
      ],
      "execution_count": 36,
      "outputs": []
    },
    {
      "cell_type": "code",
      "metadata": {
        "papermill": {
          "duration": 0.285433,
          "end_time": "2020-09-17T20:42:34.464369",
          "exception": false,
          "start_time": "2020-09-17T20:42:34.178936",
          "status": "completed"
        },
        "tags": [],
        "id": "TUY7R-3yriOV"
      },
      "source": [
        ""
      ],
      "execution_count": 36,
      "outputs": []
    }
  ]
}